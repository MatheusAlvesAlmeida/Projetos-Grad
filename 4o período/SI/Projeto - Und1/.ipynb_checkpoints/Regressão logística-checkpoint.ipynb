{
 "cells": [
  {
   "cell_type": "code",
   "execution_count": 5,
   "metadata": {
    "id": "WRI66ftNRs_C"
   },
   "outputs": [],
   "source": [
    "import pandas as pd\n",
    "import numpy as np\n",
    "\n",
    "from sklearn.model_selection import train_test_split\n",
    "from sklearn.linear_model import LogisticRegression\n",
    "from sklearn.metrics import classification_report\n",
    "from sklearn.preprocessing import LabelEncoder\n",
    "from sklearn.model_selection import train_test_split"
   ]
  },
  {
   "cell_type": "code",
   "execution_count": 15,
   "metadata": {
    "colab": {
     "base_uri": "https://localhost:8080/",
     "height": 419
    },
    "id": "Qtrh_s3fSRAm",
    "outputId": "2237c8ae-132a-45f3-c53f-0c596e43f2cc"
   },
   "outputs": [
    {
     "data": {
      "text/html": [
       "<div>\n",
       "<style scoped>\n",
       "    .dataframe tbody tr th:only-of-type {\n",
       "        vertical-align: middle;\n",
       "    }\n",
       "\n",
       "    .dataframe tbody tr th {\n",
       "        vertical-align: top;\n",
       "    }\n",
       "\n",
       "    .dataframe thead th {\n",
       "        text-align: right;\n",
       "    }\n",
       "</style>\n",
       "<table border=\"1\" class=\"dataframe\">\n",
       "  <thead>\n",
       "    <tr style=\"text-align: right;\">\n",
       "      <th></th>\n",
       "      <th>0</th>\n",
       "      <th>1</th>\n",
       "      <th>2</th>\n",
       "      <th>3</th>\n",
       "      <th>4</th>\n",
       "      <th>5</th>\n",
       "      <th>6</th>\n",
       "      <th>7</th>\n",
       "    </tr>\n",
       "  </thead>\n",
       "  <tbody>\n",
       "    <tr>\n",
       "      <th>0</th>\n",
       "      <td>-64</td>\n",
       "      <td>-56</td>\n",
       "      <td>-61</td>\n",
       "      <td>-66</td>\n",
       "      <td>-71</td>\n",
       "      <td>-82</td>\n",
       "      <td>-81</td>\n",
       "      <td>1</td>\n",
       "    </tr>\n",
       "    <tr>\n",
       "      <th>1</th>\n",
       "      <td>-68</td>\n",
       "      <td>-57</td>\n",
       "      <td>-61</td>\n",
       "      <td>-65</td>\n",
       "      <td>-71</td>\n",
       "      <td>-85</td>\n",
       "      <td>-85</td>\n",
       "      <td>1</td>\n",
       "    </tr>\n",
       "    <tr>\n",
       "      <th>2</th>\n",
       "      <td>-63</td>\n",
       "      <td>-60</td>\n",
       "      <td>-60</td>\n",
       "      <td>-67</td>\n",
       "      <td>-76</td>\n",
       "      <td>-85</td>\n",
       "      <td>-84</td>\n",
       "      <td>1</td>\n",
       "    </tr>\n",
       "    <tr>\n",
       "      <th>3</th>\n",
       "      <td>-61</td>\n",
       "      <td>-60</td>\n",
       "      <td>-68</td>\n",
       "      <td>-62</td>\n",
       "      <td>-77</td>\n",
       "      <td>-90</td>\n",
       "      <td>-80</td>\n",
       "      <td>1</td>\n",
       "    </tr>\n",
       "    <tr>\n",
       "      <th>4</th>\n",
       "      <td>-63</td>\n",
       "      <td>-65</td>\n",
       "      <td>-60</td>\n",
       "      <td>-63</td>\n",
       "      <td>-77</td>\n",
       "      <td>-81</td>\n",
       "      <td>-87</td>\n",
       "      <td>1</td>\n",
       "    </tr>\n",
       "  </tbody>\n",
       "</table>\n",
       "</div>"
      ],
      "text/plain": [
       "    0   1   2   3   4   5   6  7\n",
       "0 -64 -56 -61 -66 -71 -82 -81  1\n",
       "1 -68 -57 -61 -65 -71 -85 -85  1\n",
       "2 -63 -60 -60 -67 -76 -85 -84  1\n",
       "3 -61 -60 -68 -62 -77 -90 -80  1\n",
       "4 -63 -65 -60 -63 -77 -81 -87  1"
      ]
     },
     "execution_count": 15,
     "metadata": {},
     "output_type": "execute_result"
    }
   ],
   "source": [
    "df = pd.read_csv('wifi_localization.txt', header = None, delimiter = \"\\t\")\n",
    "df.head()"
   ]
  },
  {
   "cell_type": "markdown",
   "metadata": {
    "id": "hnkrpMgGWpW7"
   },
   "source": [
    "Separação dos conjuntos de treino e de teste"
   ]
  },
  {
   "cell_type": "code",
   "execution_count": 7,
   "metadata": {
    "colab": {
     "base_uri": "https://localhost:8080/",
     "height": 221
    },
    "id": "-xHuixKTU9WF",
    "outputId": "40f22d53-d353-445e-ab10-6f08e2c96ee5"
   },
   "outputs": [
    {
     "data": {
      "text/plain": [
       "0       1\n",
       "1       1\n",
       "2       1\n",
       "3       1\n",
       "4       1\n",
       "       ..\n",
       "1995    4\n",
       "1996    4\n",
       "1997    4\n",
       "1998    4\n",
       "1999    4\n",
       "Name: 7, Length: 2000, dtype: int64"
      ]
     },
     "metadata": {},
     "output_type": "display_data"
    }
   ],
   "source": [
    "dfTarget = df.iloc[0:2000,7]\n",
    "display(dfTarget)"
   ]
  },
  {
   "cell_type": "code",
   "execution_count": 8,
   "metadata": {
    "id": "24mjpc3UTh0s"
   },
   "outputs": [],
   "source": [
    "train, test, trainTarget, testTarget = train_test_split(df,dfTarget,test_size=0.2,random_state=3)"
   ]
  },
  {
   "cell_type": "code",
   "execution_count": 9,
   "metadata": {
    "colab": {
     "base_uri": "https://localhost:8080/",
     "height": 623
    },
    "id": "ZFG8gJ2dWYqx",
    "outputId": "eabbd2da-8eca-4b31-c173-714eb9864437"
   },
   "outputs": [
    {
     "data": {
      "text/html": [
       "<div>\n",
       "<style scoped>\n",
       "    .dataframe tbody tr th:only-of-type {\n",
       "        vertical-align: middle;\n",
       "    }\n",
       "\n",
       "    .dataframe tbody tr th {\n",
       "        vertical-align: top;\n",
       "    }\n",
       "\n",
       "    .dataframe thead th {\n",
       "        text-align: right;\n",
       "    }\n",
       "</style>\n",
       "<table border=\"1\" class=\"dataframe\">\n",
       "  <thead>\n",
       "    <tr style=\"text-align: right;\">\n",
       "      <th></th>\n",
       "      <th>0</th>\n",
       "      <th>1</th>\n",
       "      <th>2</th>\n",
       "      <th>3</th>\n",
       "      <th>4</th>\n",
       "      <th>5</th>\n",
       "      <th>6</th>\n",
       "      <th>7</th>\n",
       "    </tr>\n",
       "  </thead>\n",
       "  <tbody>\n",
       "    <tr>\n",
       "      <th>1478</th>\n",
       "      <td>-46</td>\n",
       "      <td>-51</td>\n",
       "      <td>-55</td>\n",
       "      <td>-42</td>\n",
       "      <td>-62</td>\n",
       "      <td>-79</td>\n",
       "      <td>-78</td>\n",
       "      <td>3</td>\n",
       "    </tr>\n",
       "    <tr>\n",
       "      <th>87</th>\n",
       "      <td>-71</td>\n",
       "      <td>-62</td>\n",
       "      <td>-65</td>\n",
       "      <td>-68</td>\n",
       "      <td>-83</td>\n",
       "      <td>-85</td>\n",
       "      <td>-86</td>\n",
       "      <td>1</td>\n",
       "    </tr>\n",
       "    <tr>\n",
       "      <th>750</th>\n",
       "      <td>-36</td>\n",
       "      <td>-56</td>\n",
       "      <td>-57</td>\n",
       "      <td>-46</td>\n",
       "      <td>-68</td>\n",
       "      <td>-68</td>\n",
       "      <td>-70</td>\n",
       "      <td>2</td>\n",
       "    </tr>\n",
       "    <tr>\n",
       "      <th>838</th>\n",
       "      <td>-34</td>\n",
       "      <td>-61</td>\n",
       "      <td>-52</td>\n",
       "      <td>-27</td>\n",
       "      <td>-61</td>\n",
       "      <td>-67</td>\n",
       "      <td>-69</td>\n",
       "      <td>2</td>\n",
       "    </tr>\n",
       "    <tr>\n",
       "      <th>549</th>\n",
       "      <td>-41</td>\n",
       "      <td>-57</td>\n",
       "      <td>-51</td>\n",
       "      <td>-40</td>\n",
       "      <td>-66</td>\n",
       "      <td>-78</td>\n",
       "      <td>-71</td>\n",
       "      <td>2</td>\n",
       "    </tr>\n",
       "    <tr>\n",
       "      <th>...</th>\n",
       "      <td>...</td>\n",
       "      <td>...</td>\n",
       "      <td>...</td>\n",
       "      <td>...</td>\n",
       "      <td>...</td>\n",
       "      <td>...</td>\n",
       "      <td>...</td>\n",
       "      <td>...</td>\n",
       "    </tr>\n",
       "    <tr>\n",
       "      <th>952</th>\n",
       "      <td>-37</td>\n",
       "      <td>-57</td>\n",
       "      <td>-51</td>\n",
       "      <td>-39</td>\n",
       "      <td>-71</td>\n",
       "      <td>-71</td>\n",
       "      <td>-72</td>\n",
       "      <td>2</td>\n",
       "    </tr>\n",
       "    <tr>\n",
       "      <th>1667</th>\n",
       "      <td>-64</td>\n",
       "      <td>-57</td>\n",
       "      <td>-53</td>\n",
       "      <td>-61</td>\n",
       "      <td>-50</td>\n",
       "      <td>-86</td>\n",
       "      <td>-98</td>\n",
       "      <td>4</td>\n",
       "    </tr>\n",
       "    <tr>\n",
       "      <th>1273</th>\n",
       "      <td>-54</td>\n",
       "      <td>-61</td>\n",
       "      <td>-51</td>\n",
       "      <td>-44</td>\n",
       "      <td>-63</td>\n",
       "      <td>-79</td>\n",
       "      <td>-76</td>\n",
       "      <td>3</td>\n",
       "    </tr>\n",
       "    <tr>\n",
       "      <th>1688</th>\n",
       "      <td>-58</td>\n",
       "      <td>-54</td>\n",
       "      <td>-44</td>\n",
       "      <td>-59</td>\n",
       "      <td>-47</td>\n",
       "      <td>-83</td>\n",
       "      <td>-86</td>\n",
       "      <td>4</td>\n",
       "    </tr>\n",
       "    <tr>\n",
       "      <th>1898</th>\n",
       "      <td>-59</td>\n",
       "      <td>-51</td>\n",
       "      <td>-49</td>\n",
       "      <td>-63</td>\n",
       "      <td>-45</td>\n",
       "      <td>-86</td>\n",
       "      <td>-83</td>\n",
       "      <td>4</td>\n",
       "    </tr>\n",
       "  </tbody>\n",
       "</table>\n",
       "<p>1600 rows × 8 columns</p>\n",
       "</div>"
      ],
      "text/plain": [
       "       0   1   2   3   4   5   6  7\n",
       "1478 -46 -51 -55 -42 -62 -79 -78  3\n",
       "87   -71 -62 -65 -68 -83 -85 -86  1\n",
       "750  -36 -56 -57 -46 -68 -68 -70  2\n",
       "838  -34 -61 -52 -27 -61 -67 -69  2\n",
       "549  -41 -57 -51 -40 -66 -78 -71  2\n",
       "...   ..  ..  ..  ..  ..  ..  .. ..\n",
       "952  -37 -57 -51 -39 -71 -71 -72  2\n",
       "1667 -64 -57 -53 -61 -50 -86 -98  4\n",
       "1273 -54 -61 -51 -44 -63 -79 -76  3\n",
       "1688 -58 -54 -44 -59 -47 -83 -86  4\n",
       "1898 -59 -51 -49 -63 -45 -86 -83  4\n",
       "\n",
       "[1600 rows x 8 columns]"
      ]
     },
     "metadata": {},
     "output_type": "display_data"
    },
    {
     "data": {
      "text/plain": [
       "1478    3\n",
       "87      1\n",
       "750     2\n",
       "838     2\n",
       "549     2\n",
       "       ..\n",
       "952     2\n",
       "1667    4\n",
       "1273    3\n",
       "1688    4\n",
       "1898    4\n",
       "Name: 7, Length: 1600, dtype: int64"
      ]
     },
     "metadata": {},
     "output_type": "display_data"
    }
   ],
   "source": [
    "display(train)\n",
    "display(trainTarget)"
   ]
  },
  {
   "cell_type": "markdown",
   "metadata": {
    "id": "wSJxZTMkX9sF"
   },
   "source": [
    "Treinamento do modelo"
   ]
  },
  {
   "cell_type": "code",
   "execution_count": 10,
   "metadata": {
    "colab": {
     "base_uri": "https://localhost:8080/"
    },
    "id": "7l-S0x26Wc1z",
    "outputId": "4df7fc8d-68ec-4128-d0fb-fd01d94ce0fc"
   },
   "outputs": [
    {
     "data": {
      "text/plain": [
       "LogisticRegression(max_iter=1000000)"
      ]
     },
     "execution_count": 10,
     "metadata": {},
     "output_type": "execute_result"
    }
   ],
   "source": [
    "logmodel = LogisticRegression(max_iter=1000000)\n",
    "logmodel.fit(train,trainTarget)"
   ]
  },
  {
   "cell_type": "markdown",
   "metadata": {
    "id": "m5K9_I8oYCfn"
   },
   "source": [
    "Predição do conjunto de teste"
   ]
  },
  {
   "cell_type": "code",
   "execution_count": 11,
   "metadata": {
    "colab": {
     "base_uri": "https://localhost:8080/",
     "height": 340
    },
    "id": "YV8w3E9rXWFd",
    "outputId": "e320a388-ca6b-4337-aac8-6f46afad5bd9"
   },
   "outputs": [
    {
     "data": {
      "text/plain": [
       "array([2, 3, 3, 4, 1, 1, 1, 2, 1, 2, 3, 1, 3, 4, 2, 2, 1, 2, 2, 1, 1, 4,\n",
       "       4, 1, 2, 3, 3, 4, 1, 3, 2, 1, 4, 2, 2, 1, 3, 2, 4, 1, 2, 3, 1, 4,\n",
       "       2, 2, 2, 4, 1, 3, 3, 2, 1, 1, 1, 2, 1, 2, 4, 4, 1, 4, 1, 4, 1, 4,\n",
       "       3, 3, 4, 2, 4, 1, 2, 3, 4, 1, 2, 3, 2, 1, 2, 4, 4, 3, 1, 1, 2, 4,\n",
       "       4, 1, 3, 1, 3, 4, 3, 3, 4, 3, 2, 2, 2, 3, 3, 1, 3, 1, 1, 3, 4, 1,\n",
       "       4, 3, 4, 3, 4, 1, 3, 3, 4, 4, 2, 2, 1, 4, 2, 3, 2, 2, 1, 4, 4, 1,\n",
       "       2, 2, 1, 4, 1, 2, 2, 1, 3, 4, 3, 4, 2, 2, 3, 2, 4, 4, 4, 4, 3, 2,\n",
       "       4, 4, 1, 2, 2, 4, 1, 1, 1, 1, 4, 4, 2, 3, 1, 1, 3, 4, 3, 4, 3, 4,\n",
       "       2, 3, 1, 4, 4, 1, 3, 4, 4, 2, 3, 4, 4, 3, 2, 3, 3, 3, 1, 1, 3, 3,\n",
       "       2, 4, 3, 1, 3, 2, 3, 4, 1, 4, 4, 4, 4, 1, 1, 1, 4, 1, 3, 3, 2, 3,\n",
       "       1, 4, 1, 4, 3, 3, 2, 1, 2, 2, 3, 3, 1, 1, 4, 1, 4, 1, 2, 1, 4, 4,\n",
       "       1, 2, 3, 3, 4, 2, 1, 1, 3, 1, 1, 2, 3, 3, 4, 2, 4, 2, 1, 1, 4, 2,\n",
       "       3, 1, 3, 1, 2, 2, 4, 3, 4, 3, 3, 4, 4, 3, 3, 2, 4, 3, 1, 4, 1, 4,\n",
       "       3, 1, 4, 4, 4, 4, 2, 4, 2, 2, 3, 2, 2, 3, 2, 1, 3, 2, 4, 3, 1, 4,\n",
       "       4, 1, 3, 3, 1, 3, 1, 3, 1, 4, 4, 4, 2, 2, 2, 2, 1, 3, 2, 3, 4, 3,\n",
       "       4, 1, 1, 2, 4, 1, 3, 4, 2, 3, 1, 2, 4, 2, 4, 2, 1, 3, 3, 3, 1, 4,\n",
       "       1, 1, 1, 4, 3, 1, 2, 2, 3, 2, 4, 1, 1, 1, 3, 1, 3, 3, 2, 4, 1, 1,\n",
       "       1, 1, 1, 2, 1, 3, 2, 3, 4, 2, 3, 1, 4, 2, 2, 4, 2, 2, 4, 3, 2, 4,\n",
       "       2, 2, 2, 2])"
      ]
     },
     "metadata": {},
     "output_type": "display_data"
    }
   ],
   "source": [
    "results = logmodel.predict(test)\n",
    "display(results)"
   ]
  },
  {
   "cell_type": "code",
   "execution_count": 12,
   "metadata": {
    "colab": {
     "base_uri": "https://localhost:8080/"
    },
    "id": "lsYkmgWzXj_Y",
    "outputId": "f462cbf7-4a8e-47d9-d0bf-5f716cb013d9"
   },
   "outputs": [
    {
     "name": "stdout",
     "output_type": "stream",
     "text": [
      "0.9975\n"
     ]
    }
   ],
   "source": [
    "score = logmodel.score(test,testTarget)\n",
    "print(score)"
   ]
  },
  {
   "cell_type": "code",
   "execution_count": 13,
   "metadata": {
    "colab": {
     "base_uri": "https://localhost:8080/"
    },
    "id": "3JoMpj_Ycvch",
    "outputId": "715744e7-79f4-471b-cf3e-b1e71b87bd14"
   },
   "outputs": [
    {
     "name": "stdout",
     "output_type": "stream",
     "text": [
      "              precision    recall  f1-score   support\n",
      "\n",
      "           1       1.00      1.00      1.00       105\n",
      "           2       1.00      1.00      1.00        96\n",
      "           3       1.00      0.99      0.99        96\n",
      "           4       0.99      1.00      1.00       103\n",
      "\n",
      "    accuracy                           1.00       400\n",
      "   macro avg       1.00      1.00      1.00       400\n",
      "weighted avg       1.00      1.00      1.00       400\n",
      "\n"
     ]
    }
   ],
   "source": [
    "print(classification_report(results,testTarget))"
   ]
  },
  {
   "cell_type": "code",
   "execution_count": null,
   "metadata": {
    "id": "1GO_22QJdywV"
   },
   "outputs": [],
   "source": []
  }
 ],
 "metadata": {
  "colab": {
   "name": "Regressão Logística.ipynb",
   "provenance": []
  },
  "kernelspec": {
   "display_name": "Python 3",
   "language": "python",
   "name": "python3"
  },
  "language_info": {
   "codemirror_mode": {
    "name": "ipython",
    "version": 3
   },
   "file_extension": ".py",
   "mimetype": "text/x-python",
   "name": "python",
   "nbconvert_exporter": "python",
   "pygments_lexer": "ipython3",
   "version": "3.7.3"
  }
 },
 "nbformat": 4,
 "nbformat_minor": 1
}

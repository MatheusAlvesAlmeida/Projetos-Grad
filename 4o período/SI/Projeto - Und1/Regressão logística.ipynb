{
  "nbformat": 4,
  "nbformat_minor": 0,
  "metadata": {
    "colab": {
      "name": "Regressão Logística.ipynb",
      "provenance": []
    },
    "kernelspec": {
      "name": "python3",
      "display_name": "Python 3"
    },
    "language_info": {
      "name": "python"
    }
  },
  "cells": [
    {
      "cell_type": "code",
      "metadata": {
        "id": "WRI66ftNRs_C"
      },
      "source": [
        "import pandas as pd\n",
        "import numpy as np\n",
        "import matplotlib.pyplot as plt\n",
        "import seaborn as sb\n",
        "%matplotlib inline\n",
        "\n",
        "from sklearn.model_selection import train_test_split\n",
        "from sklearn.linear_model import LogisticRegression\n",
        "from sklearn.metrics import classification_report\n",
        "from sklearn.preprocessing import LabelEncoder\n",
        "from sklearn.model_selection import train_test_split"
      ],
      "execution_count": null,
      "outputs": []
    },
    {
      "cell_type": "code",
      "metadata": {
        "colab": {
          "base_uri": "https://localhost:8080/",
          "height": 419
        },
        "id": "Qtrh_s3fSRAm",
        "outputId": "84ba38e3-6f6a-48c4-b1e6-69a29436ed73"
      },
      "source": [
        "df = pd.read_csv('https://archive.ics.uci.edu/ml/machine-learning-databases/00422/wifi_localization.txt', header = None, delimiter = \"\\t\")\n",
        "display(df)"
      ],
      "execution_count": null,
      "outputs": [
        {
          "output_type": "display_data",
          "data": {
            "text/html": [
              "<div>\n",
              "<style scoped>\n",
              "    .dataframe tbody tr th:only-of-type {\n",
              "        vertical-align: middle;\n",
              "    }\n",
              "\n",
              "    .dataframe tbody tr th {\n",
              "        vertical-align: top;\n",
              "    }\n",
              "\n",
              "    .dataframe thead th {\n",
              "        text-align: right;\n",
              "    }\n",
              "</style>\n",
              "<table border=\"1\" class=\"dataframe\">\n",
              "  <thead>\n",
              "    <tr style=\"text-align: right;\">\n",
              "      <th></th>\n",
              "      <th>0</th>\n",
              "      <th>1</th>\n",
              "      <th>2</th>\n",
              "      <th>3</th>\n",
              "      <th>4</th>\n",
              "      <th>5</th>\n",
              "      <th>6</th>\n",
              "      <th>7</th>\n",
              "    </tr>\n",
              "  </thead>\n",
              "  <tbody>\n",
              "    <tr>\n",
              "      <th>0</th>\n",
              "      <td>-64</td>\n",
              "      <td>-56</td>\n",
              "      <td>-61</td>\n",
              "      <td>-66</td>\n",
              "      <td>-71</td>\n",
              "      <td>-82</td>\n",
              "      <td>-81</td>\n",
              "      <td>1</td>\n",
              "    </tr>\n",
              "    <tr>\n",
              "      <th>1</th>\n",
              "      <td>-68</td>\n",
              "      <td>-57</td>\n",
              "      <td>-61</td>\n",
              "      <td>-65</td>\n",
              "      <td>-71</td>\n",
              "      <td>-85</td>\n",
              "      <td>-85</td>\n",
              "      <td>1</td>\n",
              "    </tr>\n",
              "    <tr>\n",
              "      <th>2</th>\n",
              "      <td>-63</td>\n",
              "      <td>-60</td>\n",
              "      <td>-60</td>\n",
              "      <td>-67</td>\n",
              "      <td>-76</td>\n",
              "      <td>-85</td>\n",
              "      <td>-84</td>\n",
              "      <td>1</td>\n",
              "    </tr>\n",
              "    <tr>\n",
              "      <th>3</th>\n",
              "      <td>-61</td>\n",
              "      <td>-60</td>\n",
              "      <td>-68</td>\n",
              "      <td>-62</td>\n",
              "      <td>-77</td>\n",
              "      <td>-90</td>\n",
              "      <td>-80</td>\n",
              "      <td>1</td>\n",
              "    </tr>\n",
              "    <tr>\n",
              "      <th>4</th>\n",
              "      <td>-63</td>\n",
              "      <td>-65</td>\n",
              "      <td>-60</td>\n",
              "      <td>-63</td>\n",
              "      <td>-77</td>\n",
              "      <td>-81</td>\n",
              "      <td>-87</td>\n",
              "      <td>1</td>\n",
              "    </tr>\n",
              "    <tr>\n",
              "      <th>...</th>\n",
              "      <td>...</td>\n",
              "      <td>...</td>\n",
              "      <td>...</td>\n",
              "      <td>...</td>\n",
              "      <td>...</td>\n",
              "      <td>...</td>\n",
              "      <td>...</td>\n",
              "      <td>...</td>\n",
              "    </tr>\n",
              "    <tr>\n",
              "      <th>1995</th>\n",
              "      <td>-59</td>\n",
              "      <td>-59</td>\n",
              "      <td>-48</td>\n",
              "      <td>-66</td>\n",
              "      <td>-50</td>\n",
              "      <td>-86</td>\n",
              "      <td>-94</td>\n",
              "      <td>4</td>\n",
              "    </tr>\n",
              "    <tr>\n",
              "      <th>1996</th>\n",
              "      <td>-59</td>\n",
              "      <td>-56</td>\n",
              "      <td>-50</td>\n",
              "      <td>-62</td>\n",
              "      <td>-47</td>\n",
              "      <td>-87</td>\n",
              "      <td>-90</td>\n",
              "      <td>4</td>\n",
              "    </tr>\n",
              "    <tr>\n",
              "      <th>1997</th>\n",
              "      <td>-62</td>\n",
              "      <td>-59</td>\n",
              "      <td>-46</td>\n",
              "      <td>-65</td>\n",
              "      <td>-45</td>\n",
              "      <td>-87</td>\n",
              "      <td>-88</td>\n",
              "      <td>4</td>\n",
              "    </tr>\n",
              "    <tr>\n",
              "      <th>1998</th>\n",
              "      <td>-62</td>\n",
              "      <td>-58</td>\n",
              "      <td>-52</td>\n",
              "      <td>-61</td>\n",
              "      <td>-41</td>\n",
              "      <td>-90</td>\n",
              "      <td>-85</td>\n",
              "      <td>4</td>\n",
              "    </tr>\n",
              "    <tr>\n",
              "      <th>1999</th>\n",
              "      <td>-59</td>\n",
              "      <td>-50</td>\n",
              "      <td>-45</td>\n",
              "      <td>-60</td>\n",
              "      <td>-45</td>\n",
              "      <td>-88</td>\n",
              "      <td>-87</td>\n",
              "      <td>4</td>\n",
              "    </tr>\n",
              "  </tbody>\n",
              "</table>\n",
              "<p>2000 rows × 8 columns</p>\n",
              "</div>"
            ],
            "text/plain": [
              "       0   1   2   3   4   5   6  7\n",
              "0    -64 -56 -61 -66 -71 -82 -81  1\n",
              "1    -68 -57 -61 -65 -71 -85 -85  1\n",
              "2    -63 -60 -60 -67 -76 -85 -84  1\n",
              "3    -61 -60 -68 -62 -77 -90 -80  1\n",
              "4    -63 -65 -60 -63 -77 -81 -87  1\n",
              "...   ..  ..  ..  ..  ..  ..  .. ..\n",
              "1995 -59 -59 -48 -66 -50 -86 -94  4\n",
              "1996 -59 -56 -50 -62 -47 -87 -90  4\n",
              "1997 -62 -59 -46 -65 -45 -87 -88  4\n",
              "1998 -62 -58 -52 -61 -41 -90 -85  4\n",
              "1999 -59 -50 -45 -60 -45 -88 -87  4\n",
              "\n",
              "[2000 rows x 8 columns]"
            ]
          },
          "metadata": {
            "tags": []
          }
        }
      ]
    },
    {
      "cell_type": "markdown",
      "metadata": {
        "id": "hnkrpMgGWpW7"
      },
      "source": [
        "Separação dos conjuntos de treino e de teste"
      ]
    },
    {
      "cell_type": "code",
      "metadata": {
        "id": "-xHuixKTU9WF"
      },
      "source": [
        "dfTarget = df.iloc[0:2000,7]"
      ],
      "execution_count": null,
      "outputs": []
    },
    {
      "cell_type": "code",
      "metadata": {
        "id": "24mjpc3UTh0s"
      },
      "source": [
        "train, test, trainTarget, testTarget = train_test_split(df,dfTarget,test_size=0.3,random_state=3)"
      ],
      "execution_count": null,
      "outputs": []
    },
    {
      "cell_type": "code",
      "metadata": {
        "colab": {
          "base_uri": "https://localhost:8080/",
          "height": 623
        },
        "id": "ZFG8gJ2dWYqx",
        "outputId": "97fff4ce-be0a-4f14-b0a5-33962118489d"
      },
      "source": [
        "display(train)\n",
        "display(trainTarget)"
      ],
      "execution_count": null,
      "outputs": [
        {
          "output_type": "display_data",
          "data": {
            "text/html": [
              "<div>\n",
              "<style scoped>\n",
              "    .dataframe tbody tr th:only-of-type {\n",
              "        vertical-align: middle;\n",
              "    }\n",
              "\n",
              "    .dataframe tbody tr th {\n",
              "        vertical-align: top;\n",
              "    }\n",
              "\n",
              "    .dataframe thead th {\n",
              "        text-align: right;\n",
              "    }\n",
              "</style>\n",
              "<table border=\"1\" class=\"dataframe\">\n",
              "  <thead>\n",
              "    <tr style=\"text-align: right;\">\n",
              "      <th></th>\n",
              "      <th>0</th>\n",
              "      <th>1</th>\n",
              "      <th>2</th>\n",
              "      <th>3</th>\n",
              "      <th>4</th>\n",
              "      <th>5</th>\n",
              "      <th>6</th>\n",
              "      <th>7</th>\n",
              "    </tr>\n",
              "  </thead>\n",
              "  <tbody>\n",
              "    <tr>\n",
              "      <th>1559</th>\n",
              "      <td>-63</td>\n",
              "      <td>-58</td>\n",
              "      <td>-52</td>\n",
              "      <td>-59</td>\n",
              "      <td>-51</td>\n",
              "      <td>-88</td>\n",
              "      <td>-94</td>\n",
              "      <td>4</td>\n",
              "    </tr>\n",
              "    <tr>\n",
              "      <th>1052</th>\n",
              "      <td>-51</td>\n",
              "      <td>-56</td>\n",
              "      <td>-51</td>\n",
              "      <td>-58</td>\n",
              "      <td>-58</td>\n",
              "      <td>-80</td>\n",
              "      <td>-86</td>\n",
              "      <td>3</td>\n",
              "    </tr>\n",
              "    <tr>\n",
              "      <th>1797</th>\n",
              "      <td>-58</td>\n",
              "      <td>-56</td>\n",
              "      <td>-44</td>\n",
              "      <td>-60</td>\n",
              "      <td>-47</td>\n",
              "      <td>-84</td>\n",
              "      <td>-85</td>\n",
              "      <td>4</td>\n",
              "    </tr>\n",
              "    <tr>\n",
              "      <th>1629</th>\n",
              "      <td>-64</td>\n",
              "      <td>-58</td>\n",
              "      <td>-49</td>\n",
              "      <td>-64</td>\n",
              "      <td>-49</td>\n",
              "      <td>-92</td>\n",
              "      <td>-91</td>\n",
              "      <td>4</td>\n",
              "    </tr>\n",
              "    <tr>\n",
              "      <th>1053</th>\n",
              "      <td>-51</td>\n",
              "      <td>-51</td>\n",
              "      <td>-52</td>\n",
              "      <td>-57</td>\n",
              "      <td>-56</td>\n",
              "      <td>-81</td>\n",
              "      <td>-77</td>\n",
              "      <td>3</td>\n",
              "    </tr>\n",
              "    <tr>\n",
              "      <th>...</th>\n",
              "      <td>...</td>\n",
              "      <td>...</td>\n",
              "      <td>...</td>\n",
              "      <td>...</td>\n",
              "      <td>...</td>\n",
              "      <td>...</td>\n",
              "      <td>...</td>\n",
              "      <td>...</td>\n",
              "    </tr>\n",
              "    <tr>\n",
              "      <th>952</th>\n",
              "      <td>-37</td>\n",
              "      <td>-57</td>\n",
              "      <td>-51</td>\n",
              "      <td>-39</td>\n",
              "      <td>-71</td>\n",
              "      <td>-71</td>\n",
              "      <td>-72</td>\n",
              "      <td>2</td>\n",
              "    </tr>\n",
              "    <tr>\n",
              "      <th>1667</th>\n",
              "      <td>-64</td>\n",
              "      <td>-57</td>\n",
              "      <td>-53</td>\n",
              "      <td>-61</td>\n",
              "      <td>-50</td>\n",
              "      <td>-86</td>\n",
              "      <td>-98</td>\n",
              "      <td>4</td>\n",
              "    </tr>\n",
              "    <tr>\n",
              "      <th>1273</th>\n",
              "      <td>-54</td>\n",
              "      <td>-61</td>\n",
              "      <td>-51</td>\n",
              "      <td>-44</td>\n",
              "      <td>-63</td>\n",
              "      <td>-79</td>\n",
              "      <td>-76</td>\n",
              "      <td>3</td>\n",
              "    </tr>\n",
              "    <tr>\n",
              "      <th>1688</th>\n",
              "      <td>-58</td>\n",
              "      <td>-54</td>\n",
              "      <td>-44</td>\n",
              "      <td>-59</td>\n",
              "      <td>-47</td>\n",
              "      <td>-83</td>\n",
              "      <td>-86</td>\n",
              "      <td>4</td>\n",
              "    </tr>\n",
              "    <tr>\n",
              "      <th>1898</th>\n",
              "      <td>-59</td>\n",
              "      <td>-51</td>\n",
              "      <td>-49</td>\n",
              "      <td>-63</td>\n",
              "      <td>-45</td>\n",
              "      <td>-86</td>\n",
              "      <td>-83</td>\n",
              "      <td>4</td>\n",
              "    </tr>\n",
              "  </tbody>\n",
              "</table>\n",
              "<p>1400 rows × 8 columns</p>\n",
              "</div>"
            ],
            "text/plain": [
              "       0   1   2   3   4   5   6  7\n",
              "1559 -63 -58 -52 -59 -51 -88 -94  4\n",
              "1052 -51 -56 -51 -58 -58 -80 -86  3\n",
              "1797 -58 -56 -44 -60 -47 -84 -85  4\n",
              "1629 -64 -58 -49 -64 -49 -92 -91  4\n",
              "1053 -51 -51 -52 -57 -56 -81 -77  3\n",
              "...   ..  ..  ..  ..  ..  ..  .. ..\n",
              "952  -37 -57 -51 -39 -71 -71 -72  2\n",
              "1667 -64 -57 -53 -61 -50 -86 -98  4\n",
              "1273 -54 -61 -51 -44 -63 -79 -76  3\n",
              "1688 -58 -54 -44 -59 -47 -83 -86  4\n",
              "1898 -59 -51 -49 -63 -45 -86 -83  4\n",
              "\n",
              "[1400 rows x 8 columns]"
            ]
          },
          "metadata": {
            "tags": []
          }
        },
        {
          "output_type": "display_data",
          "data": {
            "text/plain": [
              "1559    4\n",
              "1052    3\n",
              "1797    4\n",
              "1629    4\n",
              "1053    3\n",
              "       ..\n",
              "952     2\n",
              "1667    4\n",
              "1273    3\n",
              "1688    4\n",
              "1898    4\n",
              "Name: 7, Length: 1400, dtype: int64"
            ]
          },
          "metadata": {
            "tags": []
          }
        }
      ]
    },
    {
      "cell_type": "markdown",
      "metadata": {
        "id": "wSJxZTMkX9sF"
      },
      "source": [
        "Treinamento do modelo"
      ]
    },
    {
      "cell_type": "code",
      "metadata": {
        "colab": {
          "base_uri": "https://localhost:8080/"
        },
        "id": "7l-S0x26Wc1z",
        "outputId": "9c77dfd6-d2e2-4dde-b827-79d7d8971f2f"
      },
      "source": [
        "logmodel = LogisticRegression(max_iter=3684)\n",
        "logmodel.fit(train,trainTarget)"
      ],
      "execution_count": null,
      "outputs": [
        {
          "output_type": "execute_result",
          "data": {
            "text/plain": [
              "LogisticRegression(C=1.0, class_weight=None, dual=False, fit_intercept=True,\n",
              "                   intercept_scaling=1, l1_ratio=None, max_iter=3684,\n",
              "                   multi_class='auto', n_jobs=None, penalty='l2',\n",
              "                   random_state=None, solver='lbfgs', tol=0.0001, verbose=0,\n",
              "                   warm_start=False)"
            ]
          },
          "metadata": {
            "tags": []
          },
          "execution_count": 6
        }
      ]
    },
    {
      "cell_type": "markdown",
      "metadata": {
        "id": "m5K9_I8oYCfn"
      },
      "source": [
        "Predição do conjunto de teste"
      ]
    },
    {
      "cell_type": "code",
      "metadata": {
        "id": "YV8w3E9rXWFd",
        "colab": {
          "base_uri": "https://localhost:8080/",
          "height": 493
        },
        "outputId": "73ddc67d-a00b-4c94-e984-3df6db125054"
      },
      "source": [
        "results = logmodel.predict(test)\n",
        "display(results)"
      ],
      "execution_count": null,
      "outputs": [
        {
          "output_type": "display_data",
          "data": {
            "text/plain": [
              "array([2, 3, 3, 4, 1, 1, 1, 2, 1, 2, 3, 1, 3, 4, 2, 2, 1, 2, 2, 1, 1, 4,\n",
              "       4, 1, 2, 3, 3, 4, 1, 3, 2, 1, 4, 2, 2, 1, 3, 2, 4, 1, 2, 3, 1, 4,\n",
              "       2, 2, 2, 4, 1, 3, 3, 2, 1, 1, 1, 2, 1, 2, 4, 4, 1, 4, 1, 4, 1, 4,\n",
              "       3, 3, 4, 2, 4, 1, 2, 3, 4, 1, 2, 3, 2, 1, 2, 4, 4, 3, 1, 1, 2, 4,\n",
              "       4, 1, 3, 1, 3, 4, 3, 3, 4, 3, 2, 2, 2, 3, 3, 1, 3, 1, 1, 3, 4, 1,\n",
              "       4, 3, 4, 3, 4, 1, 3, 3, 4, 4, 2, 2, 1, 4, 2, 3, 2, 2, 1, 4, 4, 1,\n",
              "       2, 2, 1, 4, 1, 2, 2, 1, 3, 4, 3, 4, 2, 2, 3, 2, 4, 4, 4, 4, 3, 2,\n",
              "       4, 4, 1, 2, 2, 4, 1, 1, 1, 1, 4, 4, 2, 3, 1, 1, 3, 4, 3, 4, 3, 4,\n",
              "       2, 3, 1, 4, 4, 1, 3, 4, 4, 2, 3, 4, 4, 3, 2, 3, 3, 3, 1, 1, 3, 3,\n",
              "       2, 4, 3, 1, 3, 2, 3, 4, 1, 4, 4, 4, 4, 1, 1, 1, 4, 1, 3, 3, 2, 3,\n",
              "       1, 4, 1, 4, 3, 3, 2, 1, 2, 2, 3, 3, 1, 1, 4, 1, 4, 1, 2, 1, 4, 4,\n",
              "       1, 2, 3, 3, 4, 2, 1, 1, 3, 1, 1, 2, 3, 3, 4, 2, 4, 2, 1, 1, 4, 2,\n",
              "       3, 1, 3, 1, 2, 2, 4, 3, 4, 3, 3, 4, 4, 3, 3, 2, 4, 3, 1, 4, 1, 4,\n",
              "       3, 1, 4, 4, 4, 4, 2, 4, 2, 2, 3, 2, 2, 3, 2, 1, 3, 2, 4, 3, 1, 4,\n",
              "       4, 1, 3, 3, 1, 3, 1, 3, 1, 4, 4, 4, 2, 2, 2, 2, 1, 3, 2, 3, 4, 3,\n",
              "       4, 1, 1, 2, 4, 1, 3, 4, 2, 3, 1, 2, 4, 2, 4, 2, 1, 3, 3, 3, 1, 4,\n",
              "       1, 1, 1, 4, 3, 1, 2, 2, 3, 2, 4, 1, 1, 1, 3, 1, 3, 3, 2, 4, 1, 1,\n",
              "       1, 1, 1, 2, 1, 3, 2, 3, 4, 2, 3, 1, 4, 2, 2, 4, 2, 2, 4, 3, 2, 4,\n",
              "       2, 2, 2, 2, 3, 1, 2, 2, 2, 2, 3, 1, 2, 3, 2, 4, 1, 3, 1, 2, 1, 3,\n",
              "       4, 2, 4, 4, 2, 2, 4, 3, 2, 4, 1, 4, 2, 2, 1, 2, 3, 4, 1, 1, 3, 2,\n",
              "       3, 3, 2, 4, 2, 4, 2, 1, 1, 4, 2, 2, 2, 2, 1, 4, 3, 1, 4, 4, 1, 1,\n",
              "       3, 3, 4, 2, 3, 1, 2, 3, 4, 4, 1, 1, 4, 1, 1, 4, 1, 1, 1, 4, 4, 1,\n",
              "       3, 1, 4, 1, 3, 2, 3, 4, 4, 2, 3, 4, 1, 1, 1, 2, 2, 2, 1, 3, 4, 1,\n",
              "       4, 1, 1, 4, 1, 1, 1, 3, 4, 4, 1, 3, 3, 2, 2, 3, 4, 1, 1, 1, 3, 3,\n",
              "       2, 1, 3, 3, 4, 3, 2, 4, 1, 3, 1, 3, 3, 3, 4, 4, 2, 1, 3, 1, 2, 2,\n",
              "       1, 1, 2, 1, 1, 4, 2, 3, 3, 1, 2, 3, 3, 3, 3, 2, 3, 4, 3, 3, 1, 4,\n",
              "       2, 3, 1, 3, 4, 4, 4, 3, 2, 3, 1, 4, 4, 3, 2, 1, 3, 2, 2, 4, 2, 4,\n",
              "       3, 3, 1, 1, 3, 2])"
            ]
          },
          "metadata": {
            "tags": []
          }
        }
      ]
    },
    {
      "cell_type": "code",
      "metadata": {
        "colab": {
          "base_uri": "https://localhost:8080/"
        },
        "id": "lsYkmgWzXj_Y",
        "outputId": "d20413fc-7011-4dba-872a-711a4a3a49fe"
      },
      "source": [
        "score = logmodel.score(test,testTarget)\n",
        "print(score)"
      ],
      "execution_count": null,
      "outputs": [
        {
          "output_type": "stream",
          "text": [
            "0.9966666666666667\n"
          ],
          "name": "stdout"
        }
      ]
    },
    {
      "cell_type": "code",
      "metadata": {
        "colab": {
          "base_uri": "https://localhost:8080/"
        },
        "id": "3JoMpj_Ycvch",
        "outputId": "a9f10c52-a83c-4035-ae7f-a9c46d50b131"
      },
      "source": [
        "print(classification_report(results,testTarget))"
      ],
      "execution_count": null,
      "outputs": [
        {
          "output_type": "stream",
          "text": [
            "              precision    recall  f1-score   support\n",
            "\n",
            "           1       1.00      1.00      1.00       161\n",
            "           2       1.00      1.00      1.00       143\n",
            "           3       1.00      0.99      0.99       148\n",
            "           4       0.99      1.00      0.99       148\n",
            "\n",
            "    accuracy                           1.00       600\n",
            "   macro avg       1.00      1.00      1.00       600\n",
            "weighted avg       1.00      1.00      1.00       600\n",
            "\n"
          ],
          "name": "stdout"
        }
      ]
    },
    {
      "cell_type": "markdown",
      "metadata": {
        "id": "FBtCpPC1QSyB"
      },
      "source": [
        "Treinamento do novo modelo"
      ]
    },
    {
      "cell_type": "code",
      "metadata": {
        "id": "1GO_22QJdywV",
        "colab": {
          "base_uri": "https://localhost:8080/"
        },
        "outputId": "ad70dee5-f0ef-479d-dbe9-d28ede778d33"
      },
      "source": [
        "logmodel2 = LogisticRegression(max_iter=6630, C=1.63)\n",
        "logmodel2.fit(train,trainTarget)"
      ],
      "execution_count": null,
      "outputs": [
        {
          "output_type": "execute_result",
          "data": {
            "text/plain": [
              "LogisticRegression(C=1.63, class_weight=None, dual=False, fit_intercept=True,\n",
              "                   intercept_scaling=1, l1_ratio=None, max_iter=6630,\n",
              "                   multi_class='auto', n_jobs=None, penalty='l2',\n",
              "                   random_state=None, solver='lbfgs', tol=0.0001, verbose=0,\n",
              "                   warm_start=False)"
            ]
          },
          "metadata": {
            "tags": []
          },
          "execution_count": 10
        }
      ]
    },
    {
      "cell_type": "markdown",
      "metadata": {
        "id": "AA1x_G_YQa1F"
      },
      "source": [
        "Predição do conjunto de teste"
      ]
    },
    {
      "cell_type": "code",
      "metadata": {
        "colab": {
          "base_uri": "https://localhost:8080/",
          "height": 493
        },
        "id": "k-8b96azQcEC",
        "outputId": "fbb35d6b-0f75-4a1c-abe6-6b467cb126a1"
      },
      "source": [
        "results2 = logmodel2.predict(test)\n",
        "display(results)"
      ],
      "execution_count": null,
      "outputs": [
        {
          "output_type": "display_data",
          "data": {
            "text/plain": [
              "array([2, 3, 3, 4, 1, 1, 1, 2, 1, 2, 3, 1, 3, 4, 2, 2, 1, 2, 2, 1, 1, 4,\n",
              "       4, 1, 2, 3, 3, 4, 1, 3, 2, 1, 4, 2, 2, 1, 3, 2, 4, 1, 2, 3, 1, 4,\n",
              "       2, 2, 2, 4, 1, 3, 3, 2, 1, 1, 1, 2, 1, 2, 4, 4, 1, 4, 1, 4, 1, 4,\n",
              "       3, 3, 4, 2, 4, 1, 2, 3, 4, 1, 2, 3, 2, 1, 2, 4, 4, 3, 1, 1, 2, 4,\n",
              "       4, 1, 3, 1, 3, 4, 3, 3, 4, 3, 2, 2, 2, 3, 3, 1, 3, 1, 1, 3, 4, 1,\n",
              "       4, 3, 4, 3, 4, 1, 3, 3, 4, 4, 2, 2, 1, 4, 2, 3, 2, 2, 1, 4, 4, 1,\n",
              "       2, 2, 1, 4, 1, 2, 2, 1, 3, 4, 3, 4, 2, 2, 3, 2, 4, 4, 4, 4, 3, 2,\n",
              "       4, 4, 1, 2, 2, 4, 1, 1, 1, 1, 4, 4, 2, 3, 1, 1, 3, 4, 3, 4, 3, 4,\n",
              "       2, 3, 1, 4, 4, 1, 3, 4, 4, 2, 3, 4, 4, 3, 2, 3, 3, 3, 1, 1, 3, 3,\n",
              "       2, 4, 3, 1, 3, 2, 3, 4, 1, 4, 4, 4, 4, 1, 1, 1, 4, 1, 3, 3, 2, 3,\n",
              "       1, 4, 1, 4, 3, 3, 2, 1, 2, 2, 3, 3, 1, 1, 4, 1, 4, 1, 2, 1, 4, 4,\n",
              "       1, 2, 3, 3, 4, 2, 1, 1, 3, 1, 1, 2, 3, 3, 4, 2, 4, 2, 1, 1, 4, 2,\n",
              "       3, 1, 3, 1, 2, 2, 4, 3, 4, 3, 3, 4, 4, 3, 3, 2, 4, 3, 1, 4, 1, 4,\n",
              "       3, 1, 4, 4, 4, 4, 2, 4, 2, 2, 3, 2, 2, 3, 2, 1, 3, 2, 4, 3, 1, 4,\n",
              "       4, 1, 3, 3, 1, 3, 1, 3, 1, 4, 4, 4, 2, 2, 2, 2, 1, 3, 2, 3, 4, 3,\n",
              "       4, 1, 1, 2, 4, 1, 3, 4, 2, 3, 1, 2, 4, 2, 4, 2, 1, 3, 3, 3, 1, 4,\n",
              "       1, 1, 1, 4, 3, 1, 2, 2, 3, 2, 4, 1, 1, 1, 3, 1, 3, 3, 2, 4, 1, 1,\n",
              "       1, 1, 1, 2, 1, 3, 2, 3, 4, 2, 3, 1, 4, 2, 2, 4, 2, 2, 4, 3, 2, 4,\n",
              "       2, 2, 2, 2, 3, 1, 2, 2, 2, 2, 3, 1, 2, 3, 2, 4, 1, 3, 1, 2, 1, 3,\n",
              "       4, 2, 4, 4, 2, 2, 4, 3, 2, 4, 1, 4, 2, 2, 1, 2, 3, 4, 1, 1, 3, 2,\n",
              "       3, 3, 2, 4, 2, 4, 2, 1, 1, 4, 2, 2, 2, 2, 1, 4, 3, 1, 4, 4, 1, 1,\n",
              "       3, 3, 4, 2, 3, 1, 2, 3, 4, 4, 1, 1, 4, 1, 1, 4, 1, 1, 1, 4, 4, 1,\n",
              "       3, 1, 4, 1, 3, 2, 3, 4, 4, 2, 3, 4, 1, 1, 1, 2, 2, 2, 1, 3, 4, 1,\n",
              "       4, 1, 1, 4, 1, 1, 1, 3, 4, 4, 1, 3, 3, 2, 2, 3, 4, 1, 1, 1, 3, 3,\n",
              "       2, 1, 3, 3, 4, 3, 2, 4, 1, 3, 1, 3, 3, 3, 4, 4, 2, 1, 3, 1, 2, 2,\n",
              "       1, 1, 2, 1, 1, 4, 2, 3, 3, 1, 2, 3, 3, 3, 3, 2, 3, 4, 3, 3, 1, 4,\n",
              "       2, 3, 1, 3, 4, 4, 4, 3, 2, 3, 1, 4, 4, 3, 2, 1, 3, 2, 2, 4, 2, 4,\n",
              "       3, 3, 1, 1, 3, 2])"
            ]
          },
          "metadata": {
            "tags": []
          }
        }
      ]
    },
    {
      "cell_type": "code",
      "metadata": {
        "colab": {
          "base_uri": "https://localhost:8080/"
        },
        "id": "3P_ZO0YoQoQe",
        "outputId": "080cad45-be3d-4f8f-f10f-4fd8c450084a"
      },
      "source": [
        "score2 = logmodel2.score(test,testTarget)\n",
        "print(score2)"
      ],
      "execution_count": null,
      "outputs": [
        {
          "output_type": "stream",
          "text": [
            "1.0\n"
          ],
          "name": "stdout"
        }
      ]
    },
    {
      "cell_type": "code",
      "metadata": {
        "colab": {
          "base_uri": "https://localhost:8080/"
        },
        "id": "blOqJbz4QqxU",
        "outputId": "9962e67d-93f6-41cc-bf8b-17e47889312c"
      },
      "source": [
        "print(classification_report(results,testTarget))"
      ],
      "execution_count": null,
      "outputs": [
        {
          "output_type": "stream",
          "text": [
            "              precision    recall  f1-score   support\n",
            "\n",
            "           1       1.00      1.00      1.00       161\n",
            "           2       1.00      1.00      1.00       143\n",
            "           3       1.00      0.99      0.99       148\n",
            "           4       0.99      1.00      0.99       148\n",
            "\n",
            "    accuracy                           1.00       600\n",
            "   macro avg       1.00      1.00      1.00       600\n",
            "weighted avg       1.00      1.00      1.00       600\n",
            "\n"
          ],
          "name": "stdout"
        }
      ]
    }
  ]
}